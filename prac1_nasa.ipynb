{
 "cells": [
  {
   "cell_type": "code",
   "execution_count": 16,
   "id": "24416860",
   "metadata": {},
   "outputs": [],
   "source": [
    "import requests\n",
    "import random\n",
    "from IPython.display import Image, display"
   ]
  },
  {
   "cell_type": "code",
   "execution_count": 17,
   "id": "f4e099a9",
   "metadata": {},
   "outputs": [],
   "source": [
    "key = 'ZblFlNaFEfJ2ook9LdUqlhCBW4Z328eIz3V009ka'\n",
    "url = f'https://api.nasa.gov/mars-photos/api/v1/rovers/curiosity/photos?earth_date=2022-5-22&api_key={key}'\n",
    "\n",
    "response = requests.get(url) \n",
    "data = response.json()['photos']"
   ]
  },
  {
   "cell_type": "code",
   "execution_count": 18,
   "id": "c8b7f168",
   "metadata": {},
   "outputs": [
    {
     "data": {
      "text/plain": [
       "[{'id': 976375,\n",
       "  'sol': 3481,\n",
       "  'camera': {'id': 22,\n",
       "   'name': 'MAST',\n",
       "   'rover_id': 5,\n",
       "   'full_name': 'Mast Camera'},\n",
       "  'img_src': 'https://mars.nasa.gov/msl-raw-images/msss/03481/mcam/3481MR1020690101603503I01_DXXX.jpg',\n",
       "  'earth_date': '2022-05-22',\n",
       "  'rover': {'id': 5,\n",
       "   'name': 'Curiosity',\n",
       "   'landing_date': '2012-08-06',\n",
       "   'launch_date': '2011-11-26',\n",
       "   'status': 'active'}},\n",
       " {'id': 976511,\n",
       "  'sol': 3481,\n",
       "  'camera': {'id': 22,\n",
       "   'name': 'MAST',\n",
       "   'rover_id': 5,\n",
       "   'full_name': 'Mast Camera'},\n",
       "  'img_src': 'https://mars.nasa.gov/msl-raw-images/msss/03481/mcam/3481ML1020670201402529I01_DXXX.jpg',\n",
       "  'earth_date': '2022-05-22',\n",
       "  'rover': {'id': 5,\n",
       "   'name': 'Curiosity',\n",
       "   'landing_date': '2012-08-06',\n",
       "   'launch_date': '2011-11-26',\n",
       "   'status': 'active'}},\n",
       " {'id': 976406,\n",
       "  'sol': 3481,\n",
       "  'camera': {'id': 22,\n",
       "   'name': 'MAST',\n",
       "   'rover_id': 5,\n",
       "   'full_name': 'Mast Camera'},\n",
       "  'img_src': 'https://mars.nasa.gov/msl-raw-images/msss/03481/mcam/3481ML1020671251402634I01_DXXX.jpg',\n",
       "  'earth_date': '2022-05-22',\n",
       "  'rover': {'id': 5,\n",
       "   'name': 'Curiosity',\n",
       "   'landing_date': '2012-08-06',\n",
       "   'launch_date': '2011-11-26',\n",
       "   'status': 'active'}}]"
      ]
     },
     "execution_count": 18,
     "metadata": {},
     "output_type": "execute_result"
    }
   ],
   "source": [
    "random_elements = random.sample(data, 3)\n",
    "random_elements"
   ]
  },
  {
   "cell_type": "code",
   "execution_count": 19,
   "id": "22baad37",
   "metadata": {},
   "outputs": [
    {
     "data": {
      "text/html": [
       "<img src=\"https://mars.nasa.gov/msl-raw-images/msss/03481/mcam/3481MR1020690101603503I01_DXXX.jpg\"/>"
      ],
      "text/plain": [
       "<IPython.core.display.Image object>"
      ]
     },
     "metadata": {},
     "output_type": "display_data"
    },
    {
     "data": {
      "text/html": [
       "<img src=\"https://mars.nasa.gov/msl-raw-images/msss/03481/mcam/3481ML1020670201402529I01_DXXX.jpg\"/>"
      ],
      "text/plain": [
       "<IPython.core.display.Image object>"
      ]
     },
     "metadata": {},
     "output_type": "display_data"
    },
    {
     "data": {
      "text/html": [
       "<img src=\"https://mars.nasa.gov/msl-raw-images/msss/03481/mcam/3481ML1020671251402634I01_DXXX.jpg\"/>"
      ],
      "text/plain": [
       "<IPython.core.display.Image object>"
      ]
     },
     "metadata": {},
     "output_type": "display_data"
    }
   ],
   "source": [
    "for i in random_elements:\n",
    "    display(Image(url=i['img_src']))"
   ]
  },
  {
   "cell_type": "code",
   "execution_count": null,
   "id": "2e833092",
   "metadata": {},
   "outputs": [],
   "source": []
  }
 ],
 "metadata": {
  "kernelspec": {
   "display_name": "Python 3 (ipykernel)",
   "language": "python",
   "name": "python3"
  },
  "language_info": {
   "codemirror_mode": {
    "name": "ipython",
    "version": 3
   },
   "file_extension": ".py",
   "mimetype": "text/x-python",
   "name": "python",
   "nbconvert_exporter": "python",
   "pygments_lexer": "ipython3",
   "version": "3.9.13"
  }
 },
 "nbformat": 4,
 "nbformat_minor": 5
}
